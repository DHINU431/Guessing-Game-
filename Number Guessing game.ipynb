{
 "cells": [
  {
   "cell_type": "markdown",
   "metadata": {},
   "source": [
    "## Guessing Game "
   ]
  },
  {
   "cell_type": "code",
   "execution_count": null,
   "metadata": {},
   "outputs": [
    {
     "name": "stdout",
     "output_type": "stream",
     "text": [
      "IF U WANNA PLAY AGAIN Y/N ?y\n",
      "CHANCES : 5\n"
     ]
    }
   ],
   "source": [
    "import random\n",
    "def game():\n",
    "    num=random.randint(1,100)\n",
    "    chances=5\n",
    "    guess=0\n",
    "    while(guess!=num and chances>0):\n",
    "        print(\"CHANCES : \"+str(chances) )\n",
    "        guess=int(input(\"GUESS THE NUMBER:\"))\n",
    "        chances-=1\n",
    "        if(guess==num):\n",
    "            print(\"YOU WON THE GAME!!!!\")\n",
    "        elif(guess>num):\n",
    "            print('YOU ENTERED LARGER ONE... ')\n",
    "        else:\n",
    "            print('YOU ENTERED SMALLER ONE...')\n",
    "    if(guess!=num):\n",
    "        print(\"U LOST THE GAME\")\n",
    "        print(\"THE NUMBER IS \"+ str(num))\n",
    "playagain=\"y\"\n",
    "playagain=input(\"IF U WANNA PLAY AGAIN Y/N ?\").lower()\n",
    "while(playagain==\"y\"):\n",
    "    game()"
   ]
  },
  {
   "cell_type": "code",
   "execution_count": null,
   "metadata": {},
   "outputs": [],
   "source": []
  }
 ],
 "metadata": {
  "kernelspec": {
   "display_name": "Python 3",
   "language": "python",
   "name": "python3"
  },
  "language_info": {
   "codemirror_mode": {
    "name": "ipython",
    "version": 3
   },
   "file_extension": ".py",
   "mimetype": "text/x-python",
   "name": "python",
   "nbconvert_exporter": "python",
   "pygments_lexer": "ipython3",
   "version": "3.7.6"
  }
 },
 "nbformat": 4,
 "nbformat_minor": 4
}
